{
 "cells": [
  {
   "cell_type": "markdown",
   "metadata": {},
   "source": [
    "## Minimal example of code crash with large offset observations\n",
    "\n",
    "\n",
    "When creating excess maps with IACTBasicImageEstimator and the RingBackgroundEstimator, the code crashes when using large offset observations (>3.5°) and low energies (<200 GeV) in the spline of the PSF. This might be due to the fact that the PSF is not defined (zero values) in the IRFs for this range of parameters."
   ]
  },
  {
   "cell_type": "code",
   "execution_count": 1,
   "metadata": {},
   "outputs": [],
   "source": [
    "%matplotlib inline\n",
    "import sys\n",
    "sys.path.append(\"/Users/facero/Documents/Work/Program/gammapy/gammapy\")\n",
    "\n",
    "\n",
    "\n",
    "import astropy.units as u\n",
    "from astropy.coordinates import SkyCoord, Angle\n",
    "from regions import CircleSkyRegion\n",
    "\n",
    "from gammapy.data import DataStore\n",
    "from gammapy.image import SkyImage, IACTBasicImageEstimator\n",
    "from gammapy.background import RingBackgroundEstimator\n",
    "\n",
    "\n",
    "DATA_DIR = '$CTADATA/index/gps'\n",
    "ds = DataStore.from_dir(DATA_DIR)\n"
   ]
  },
  {
   "cell_type": "code",
   "execution_count": 2,
   "metadata": {},
   "outputs": [
    {
     "name": "stdout",
     "output_type": "stream",
     "text": [
      "19 observations within radius\n"
     ]
    }
   ],
   "source": [
    "ras = ds.obs_table['RA_PNT'] * u.deg\n",
    "decs = ds.obs_table['DEC_PNT'] * u.deg\n",
    "\n",
    "target_position = SkyCoord(347.3, -0.5, unit='deg', frame='galactic')\n",
    "pointings = SkyCoord(ras, decs, frame='icrs' )\n",
    "dists = pointings.separation(target_position)\n",
    "obs_id = ds.obs_table['OBS_ID'][(dists < 4.5 * u.deg) & (dists > 4 * u.deg)]\n",
    "print(len(obs_id), \"observations within radius\")\n",
    "\n",
    "obs_list = ds.obs_list(obs_id)\n"
   ]
  },
  {
   "cell_type": "code",
   "execution_count": 3,
   "metadata": {
    "collapsed": true
   },
   "outputs": [],
   "source": [
    "# Define reference image centered on the target\n",
    "xref = target_position.galactic.l.value\n",
    "yref = target_position.galactic.b.value\n",
    "size = 5 * u.deg\n",
    "binsz = 0.025 # degree per pixel\n",
    "npix = int((size / binsz).value)\n",
    "\n",
    "ref_image = SkyImage.empty(\n",
    "    nxpix=npix, nypix=npix, binsz=binsz,\n",
    "    xref=xref, yref=yref,\n",
    "    proj='TAN', coordsys='GAL',\n",
    ")\n",
    "\n",
    "\n",
    "on_region = CircleSkyRegion(center=target_position, radius=0.1 * u.deg)\n",
    "\n",
    "exclusion_mask = ref_image.region_mask(on_region)\n",
    "exclusion_mask.data = 1 - exclusion_mask.data"
   ]
  },
  {
   "cell_type": "markdown",
   "metadata": {},
   "source": [
    "# Code crash\n",
    "\n",
    "The following cell will crash when querying energy ranges that are outside the IRF PSF definition.\n",
    "For E<0.1 TeV, the code will crash as PSF is not defined in the IRFs.\n",
    "\n",
    "Changing emin to 0.3 TeV avoids the crash."
   ]
  },
  {
   "cell_type": "code",
   "execution_count": 4,
   "metadata": {},
   "outputs": [
    {
     "name": "stderr",
     "output_type": "stream",
     "text": [
      "/Users/facero/Documents/Work/Program/gammapy/gammapy/gammapy/cube/core.py:85: RuntimeWarning: divide by zero encountered in log\n",
      "  log_data = np.log(self.data.value)\n",
      "/Users/facero/Documents/Work/Program/Anaconda/envs/cta/lib/python3.6/site-packages/scipy/interpolate/interpolate.py:2444: RuntimeWarning: invalid value encountered in multiply\n",
      "  values += np.asarray(self.values[edge_indices]) * weight[vslice]\n",
      "/Users/facero/Documents/Work/Program/gammapy/gammapy/gammapy/background/ring.py:321: RuntimeWarning: invalid value encountered in true_divide\n",
      "  result['alpha'] = SkyImage(data=exposure_on.data / result['exposure_off'].data, wcs=wcs)\n",
      "/Users/facero/Documents/Work/Program/gammapy/gammapy/gammapy/image/models/gauss.py:254: RuntimeWarning: invalid value encountered in true_divide\n",
      "  self.norms /= self.integral\n",
      "/Users/facero/Documents/Work/Program/gammapy/gammapy/gammapy/irf/psf_table.py:382: RuntimeWarning: invalid value encountered in less_equal\n",
      "  i = (np.diff(y) <= 0).argmax()\n"
     ]
    },
    {
     "ename": "error",
     "evalue": "(xb<=x[0]) failed for 2nd keyword xb: fpcurf0:xb=nan",
     "output_type": "error",
     "traceback": [
      "\u001b[0;31m---------------------------------------------------------------------------\u001b[0m",
      "\u001b[0;31merror\u001b[0m                                     Traceback (most recent call last)",
      "\u001b[0;32m<ipython-input-4-2f7c0012fbdf>\u001b[0m in \u001b[0;36m<module>\u001b[0;34m()\u001b[0m\n\u001b[1;32m     11\u001b[0m     exclusion_mask=exclusion_mask)\n\u001b[1;32m     12\u001b[0m \u001b[0;34m\u001b[0m\u001b[0m\n\u001b[0;32m---> 13\u001b[0;31m \u001b[0mimages\u001b[0m \u001b[0;34m=\u001b[0m \u001b[0mimage_estimator\u001b[0m\u001b[0;34m.\u001b[0m\u001b[0mrun\u001b[0m\u001b[0;34m(\u001b[0m\u001b[0mobs_list\u001b[0m\u001b[0;34m)\u001b[0m\u001b[0;34m\u001b[0m\u001b[0m\n\u001b[0m\u001b[1;32m     14\u001b[0m \u001b[0mimages\u001b[0m\u001b[0;34m.\u001b[0m\u001b[0mnames\u001b[0m\u001b[0;34m\u001b[0m\u001b[0m\n",
      "\u001b[0;32m/Users/facero/Documents/Work/Program/gammapy/gammapy/gammapy/image/basic.py\u001b[0m in \u001b[0;36mrun\u001b[0;34m(self, observations, which)\u001b[0m\n\u001b[1;32m    295\u001b[0m \u001b[0;34m\u001b[0m\u001b[0m\n\u001b[1;32m    296\u001b[0m         \u001b[0;32mif\u001b[0m \u001b[0;34m'psf'\u001b[0m \u001b[0;32min\u001b[0m \u001b[0mwhich\u001b[0m\u001b[0;34m:\u001b[0m\u001b[0;34m\u001b[0m\u001b[0m\n\u001b[0;32m--> 297\u001b[0;31m             \u001b[0mresult\u001b[0m\u001b[0;34m[\u001b[0m\u001b[0;34m'psf'\u001b[0m\u001b[0;34m]\u001b[0m \u001b[0;34m=\u001b[0m \u001b[0mself\u001b[0m\u001b[0;34m.\u001b[0m\u001b[0mpsf\u001b[0m\u001b[0;34m(\u001b[0m\u001b[0mobservations\u001b[0m\u001b[0;34m)\u001b[0m\u001b[0;34m\u001b[0m\u001b[0m\n\u001b[0m\u001b[1;32m    298\u001b[0m         \u001b[0;32mreturn\u001b[0m \u001b[0mresult\u001b[0m\u001b[0;34m\u001b[0m\u001b[0m\n\u001b[1;32m    299\u001b[0m \u001b[0;34m\u001b[0m\u001b[0m\n",
      "\u001b[0;32m/Users/facero/Documents/Work/Program/gammapy/gammapy/gammapy/image/basic.py\u001b[0m in \u001b[0;36mpsf\u001b[0;34m(self, observations)\u001b[0m\n\u001b[1;32m    203\u001b[0m         \u001b[0mmean_psf\u001b[0m \u001b[0;34m=\u001b[0m \u001b[0mobservations\u001b[0m\u001b[0;34m.\u001b[0m\u001b[0mmake_mean_psf\u001b[0m\u001b[0;34m(\u001b[0m\u001b[0mself\u001b[0m\u001b[0;34m.\u001b[0m\u001b[0mreference\u001b[0m\u001b[0;34m.\u001b[0m\u001b[0mcenter\u001b[0m\u001b[0;34m)\u001b[0m\u001b[0;34m\u001b[0m\u001b[0m\n\u001b[1;32m    204\u001b[0m         \u001b[0merange\u001b[0m \u001b[0;34m=\u001b[0m \u001b[0mu\u001b[0m\u001b[0;34m.\u001b[0m\u001b[0mQuantity\u001b[0m\u001b[0;34m(\u001b[0m\u001b[0;34m(\u001b[0m\u001b[0mp\u001b[0m\u001b[0;34m[\u001b[0m\u001b[0;34m'emin'\u001b[0m\u001b[0;34m]\u001b[0m\u001b[0;34m,\u001b[0m \u001b[0mp\u001b[0m\u001b[0;34m[\u001b[0m\u001b[0;34m'emax'\u001b[0m\u001b[0;34m]\u001b[0m\u001b[0;34m)\u001b[0m\u001b[0;34m)\u001b[0m\u001b[0;34m\u001b[0m\u001b[0m\n\u001b[0;32m--> 205\u001b[0;31m         \u001b[0mpsf_mean\u001b[0m \u001b[0;34m=\u001b[0m \u001b[0mmean_psf\u001b[0m\u001b[0;34m.\u001b[0m\u001b[0mtable_psf_in_energy_band\u001b[0m\u001b[0;34m(\u001b[0m\u001b[0merange\u001b[0m\u001b[0;34m,\u001b[0m \u001b[0mspectrum\u001b[0m\u001b[0;34m=\u001b[0m\u001b[0mself\u001b[0m\u001b[0;34m.\u001b[0m\u001b[0mspectral_model\u001b[0m\u001b[0;34m)\u001b[0m\u001b[0;34m\u001b[0m\u001b[0m\n\u001b[0m\u001b[1;32m    206\u001b[0m \u001b[0;34m\u001b[0m\u001b[0m\n\u001b[1;32m    207\u001b[0m         \u001b[0mcoordinates\u001b[0m \u001b[0;34m=\u001b[0m \u001b[0mpsf_image\u001b[0m\u001b[0;34m.\u001b[0m\u001b[0mcoordinates\u001b[0m\u001b[0;34m(\u001b[0m\u001b[0;34m)\u001b[0m\u001b[0;34m\u001b[0m\u001b[0m\n",
      "\u001b[0;32m/Users/facero/Documents/Work/Program/gammapy/gammapy/gammapy/irf/psf_table.py\u001b[0m in \u001b[0;36mtable_psf_in_energy_band\u001b[0;34m(self, energy_band, spectral_index, spectrum, **kwargs)\u001b[0m\n\u001b[1;32m    654\u001b[0m         \u001b[0;31m# TODO: add version that returns `total_psf_value` without\u001b[0m\u001b[0;34m\u001b[0m\u001b[0;34m\u001b[0m\u001b[0m\n\u001b[1;32m    655\u001b[0m         \u001b[0;31m# making a `TablePSF`.\u001b[0m\u001b[0;34m\u001b[0m\u001b[0;34m\u001b[0m\u001b[0m\n\u001b[0;32m--> 656\u001b[0;31m         \u001b[0;32mreturn\u001b[0m \u001b[0mTablePSF\u001b[0m\u001b[0;34m(\u001b[0m\u001b[0mself\u001b[0m\u001b[0;34m.\u001b[0m\u001b[0mrad\u001b[0m\u001b[0;34m,\u001b[0m \u001b[0mtotal_psf_value\u001b[0m\u001b[0;34m,\u001b[0m \u001b[0;34m**\u001b[0m\u001b[0mkwargs\u001b[0m\u001b[0;34m)\u001b[0m\u001b[0;34m\u001b[0m\u001b[0m\n\u001b[0m\u001b[1;32m    657\u001b[0m \u001b[0;34m\u001b[0m\u001b[0m\n\u001b[1;32m    658\u001b[0m     \u001b[0;32mdef\u001b[0m \u001b[0mcontainment_radius\u001b[0m\u001b[0;34m(\u001b[0m\u001b[0mself\u001b[0m\u001b[0;34m,\u001b[0m \u001b[0menergies\u001b[0m\u001b[0;34m,\u001b[0m \u001b[0mfraction\u001b[0m\u001b[0;34m,\u001b[0m \u001b[0minterp_kwargs\u001b[0m\u001b[0;34m=\u001b[0m\u001b[0;32mNone\u001b[0m\u001b[0;34m)\u001b[0m\u001b[0;34m:\u001b[0m\u001b[0;34m\u001b[0m\u001b[0m\n",
      "\u001b[0;32m/Users/facero/Documents/Work/Program/gammapy/gammapy/gammapy/irf/psf_table.py\u001b[0m in \u001b[0;36m__init__\u001b[0;34m(self, rad, dp_domega, spline_kwargs)\u001b[0m\n\u001b[1;32m     73\u001b[0m         \u001b[0mself\u001b[0m\u001b[0;34m.\u001b[0m\u001b[0m_spline_kwargs\u001b[0m \u001b[0;34m=\u001b[0m \u001b[0mspline_kwargs\u001b[0m\u001b[0;34m\u001b[0m\u001b[0m\n\u001b[1;32m     74\u001b[0m \u001b[0;34m\u001b[0m\u001b[0m\n\u001b[0;32m---> 75\u001b[0;31m         \u001b[0mself\u001b[0m\u001b[0;34m.\u001b[0m\u001b[0m_compute_splines\u001b[0m\u001b[0;34m(\u001b[0m\u001b[0mspline_kwargs\u001b[0m\u001b[0;34m)\u001b[0m\u001b[0;34m\u001b[0m\u001b[0m\n\u001b[0m\u001b[1;32m     76\u001b[0m \u001b[0;34m\u001b[0m\u001b[0m\n\u001b[1;32m     77\u001b[0m     \u001b[0;34m@\u001b[0m\u001b[0mclassmethod\u001b[0m\u001b[0;34m\u001b[0m\u001b[0m\n",
      "\u001b[0;32m/Users/facero/Documents/Work/Program/gammapy/gammapy/gammapy/irf/psf_table.py\u001b[0m in \u001b[0;36m_compute_splines\u001b[0;34m(self, spline_kwargs)\u001b[0m\n\u001b[1;32m    382\u001b[0m         \u001b[0mi\u001b[0m \u001b[0;34m=\u001b[0m \u001b[0;34m(\u001b[0m\u001b[0mnp\u001b[0m\u001b[0;34m.\u001b[0m\u001b[0mdiff\u001b[0m\u001b[0;34m(\u001b[0m\u001b[0my\u001b[0m\u001b[0;34m)\u001b[0m \u001b[0;34m<=\u001b[0m \u001b[0;36m0\u001b[0m\u001b[0;34m)\u001b[0m\u001b[0;34m.\u001b[0m\u001b[0margmax\u001b[0m\u001b[0;34m(\u001b[0m\u001b[0;34m)\u001b[0m\u001b[0;34m\u001b[0m\u001b[0m\n\u001b[1;32m    383\u001b[0m         \u001b[0mi\u001b[0m \u001b[0;34m=\u001b[0m \u001b[0mlen\u001b[0m\u001b[0;34m(\u001b[0m\u001b[0my\u001b[0m\u001b[0;34m)\u001b[0m \u001b[0;32mif\u001b[0m \u001b[0mi\u001b[0m \u001b[0;34m==\u001b[0m \u001b[0;36m0\u001b[0m \u001b[0;32melse\u001b[0m \u001b[0mi\u001b[0m\u001b[0;34m\u001b[0m\u001b[0m\n\u001b[0;32m--> 384\u001b[0;31m         \u001b[0mself\u001b[0m\u001b[0;34m.\u001b[0m\u001b[0m_ppf_spline\u001b[0m \u001b[0;34m=\u001b[0m \u001b[0mUnivariateSpline\u001b[0m\u001b[0;34m(\u001b[0m\u001b[0my\u001b[0m\u001b[0;34m[\u001b[0m\u001b[0;34m:\u001b[0m\u001b[0mi\u001b[0m\u001b[0;34m]\u001b[0m\u001b[0;34m,\u001b[0m \u001b[0mx\u001b[0m\u001b[0;34m[\u001b[0m\u001b[0;34m:\u001b[0m\u001b[0mi\u001b[0m\u001b[0;34m]\u001b[0m\u001b[0;34m,\u001b[0m \u001b[0;34m**\u001b[0m\u001b[0mspline_kwargs\u001b[0m\u001b[0;34m)\u001b[0m\u001b[0;34m\u001b[0m\u001b[0m\n\u001b[0m\u001b[1;32m    385\u001b[0m \u001b[0;34m\u001b[0m\u001b[0m\n\u001b[1;32m    386\u001b[0m     \u001b[0;32mdef\u001b[0m \u001b[0m_rad_clip\u001b[0m\u001b[0;34m(\u001b[0m\u001b[0mself\u001b[0m\u001b[0;34m,\u001b[0m \u001b[0mrad\u001b[0m\u001b[0;34m)\u001b[0m\u001b[0;34m:\u001b[0m\u001b[0;34m\u001b[0m\u001b[0m\n",
      "\u001b[0;32m/Users/facero/Documents/Work/Program/Anaconda/envs/cta/lib/python3.6/site-packages/scipy/interpolate/fitpack2.py\u001b[0m in \u001b[0;36m__init__\u001b[0;34m(self, x, y, w, bbox, k, s, ext, check_finite)\u001b[0m\n\u001b[1;32m    181\u001b[0m \u001b[0;34m\u001b[0m\u001b[0m\n\u001b[1;32m    182\u001b[0m         data = dfitpack.fpcurf0(x,y,k,w=w,\n\u001b[0;32m--> 183\u001b[0;31m                                 xb=bbox[0],xe=bbox[1],s=s)\n\u001b[0m\u001b[1;32m    184\u001b[0m         \u001b[0;32mif\u001b[0m \u001b[0mdata\u001b[0m\u001b[0;34m[\u001b[0m\u001b[0;34m-\u001b[0m\u001b[0;36m1\u001b[0m\u001b[0;34m]\u001b[0m \u001b[0;34m==\u001b[0m \u001b[0;36m1\u001b[0m\u001b[0;34m:\u001b[0m\u001b[0;34m\u001b[0m\u001b[0m\n\u001b[1;32m    185\u001b[0m             \u001b[0;31m# nest too small, setting to maximum bound\u001b[0m\u001b[0;34m\u001b[0m\u001b[0;34m\u001b[0m\u001b[0m\n",
      "\u001b[0;31merror\u001b[0m: (xb<=x[0]) failed for 2nd keyword xb: fpcurf0:xb=nan"
     ]
    }
   ],
   "source": [
    "bkg_estimator = RingBackgroundEstimator(\n",
    "    r_in=0.8 * u.deg,\n",
    "    width=0.2 * u.deg)\n",
    "\n",
    "image_estimator = IACTBasicImageEstimator(\n",
    "    reference=ref_image,\n",
    "    emin=0.05 * u.TeV,\n",
    "    emax=1 * u.TeV,\n",
    "    offset_max=3 * u.deg,\n",
    "    background_estimator=bkg_estimator,\n",
    "    exclusion_mask=exclusion_mask)\n",
    "\n",
    "images = image_estimator.run(obs_list)\n",
    "images.names"
   ]
  },
  {
   "cell_type": "code",
   "execution_count": null,
   "metadata": {
    "collapsed": true
   },
   "outputs": [],
   "source": []
  }
 ],
 "metadata": {
  "kernelspec": {
   "display_name": "Python 3",
   "language": "python",
   "name": "python3"
  }
 },
 "nbformat": 4,
 "nbformat_minor": 2
}
